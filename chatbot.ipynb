{
 "cells": [
  {
   "cell_type": "code",
   "execution_count": 29,
   "metadata": {},
   "outputs": [
    {
     "name": "stderr",
     "output_type": "stream",
     "text": [
      "[nltk_data] Downloading package punkt to C:\\Users\\Amalie Aas\n",
      "[nltk_data]     Håland\\AppData\\Roaming\\nltk_data...\n",
      "[nltk_data]   Package punkt is already up-to-date!\n",
      "[nltk_data] Downloading package wordnet to C:\\Users\\Amalie Aas\n",
      "[nltk_data]     Håland\\AppData\\Roaming\\nltk_data...\n",
      "[nltk_data]   Package wordnet is already up-to-date!\n",
      "[nltk_data] Downloading package stopwords to C:\\Users\\Amalie Aas\n",
      "[nltk_data]     Håland\\AppData\\Roaming\\nltk_data...\n",
      "[nltk_data]   Package stopwords is already up-to-date!\n"
     ]
    }
   ],
   "source": [
    "#Importing packages:reprocessing.sequence import pad_sequences\n",
    "import nltk\n",
    "from numpy import argmax\n",
    "from nltk.stem import WordNetLemmatizer\n",
    "from nltk.corpus import stopwords\n",
    "import string\n",
    "nltk.download('punkt')\n",
    "nltk.download('wordnet')\n",
    "nltk.download('stopwords')\n",
    "from sklearn.metrics.pairwise import cosine_similarity\n",
    "from sklearn.feature_extraction.text import TfidfVectorizer"
   ]
  },
  {
   "cell_type": "code",
   "execution_count": 41,
   "metadata": {},
   "outputs": [],
   "source": [
    "\n",
    "class ChatBotModel:\n",
    "    def __init__(self, file):\n",
    "        self._file = open(file, \"r\", encoding=\"utf-8\")\n",
    "        self._raw_data = [line.strip() for line in self._file]\n",
    "        self.preprocessed = [self._preprocess(line) for line in self._raw_data]\n",
    "    \n",
    "    def _preprocess(self,line):\n",
    "        \n",
    "        # Tokenizing the words\n",
    "        tokens = nltk.word_tokenize(line)\n",
    "        # Removing stopwords and punctuation\n",
    "        stop_words = set(stopwords.words('norwegian'))\n",
    "        tokens = [word.lower() for word in tokens if word not in stop_words and word not in string.punctuation]\n",
    "        return \" \".join(tokens)\n",
    "    def train(self):\n",
    "        #Computing tf-idf matrix in order to ensure that words that appear in all documents gets too high weight.\n",
    "        self._tf_idf= TfidfVectorizer()\n",
    "        trained = self._tf_idf.fit(self.preprocessed)\n",
    "        self._td_mat = self._tf_idf.transform(self.preprocessed)\n",
    "        \n",
    "    def get_response(self,inp):\n",
    "        processed = [self._preprocess(inp.strip())]\n",
    "        inp_mat = self._tf_idf.transform(processed)\n",
    "        cos_simularites = cosine_similarity(inp_mat,self._td_mat)\n",
    "        best_result = argmax(cos_simularites)\n",
    "        return self._raw_data[best_result] if self._raw_data[best_result+1]==\"\" else self._raw_data[best_result+1]\n",
    "\n",
    "\n",
    "\n",
    "\n",
    "\n"
   ]
  },
  {
   "cell_type": "code",
   "execution_count": 43,
   "metadata": {},
   "outputs": [
    {
     "name": "stdout",
     "output_type": "stream",
     "text": [
      "Dette er også representativt for bøker. I masteroppgaven ser Skeie på alle barne- og ungdomsbokutgivelser i 2011. Hun oppdaget av de fleste av disse er det vi kaller klassiske jentebøker, men hun fant også mange som kunne appellere til gutter. Problemene lå i bøkenes omslag. Disse hadde ofte farger og motiver som fikk guttene til å se på boken som feminin, selv om innholdet kunne passe godt for gutter. Dette kan vitne om en bokindustri som retter seg mest mot jenter. Det er lett å tenke at forlagene bevisst lager omslag som appellerer mer til jenter, ettersom at det er de som tradisjonelt leser mest bøker. Dette bidrar til å opprettholde mønsteret. Gutter vil ikke lese bøkene fordi de ser for feminine ut, noe som fører til at gutter ikke kjøper bøker, som igjen påvirker forlagenes markedsføringsstrategier i en mer feminin retning. Dermed oppstår en ond sirkel.\n"
     ]
    }
   ],
   "source": [
    "#Create and train the model:\n",
    "model = ChatBotModel(\"data.txt\")\n",
    "trained_model = model.train()\n",
    "print(model.get_response('En god bok'))"
   ]
  },
  {
   "cell_type": "code",
   "execution_count": null,
   "metadata": {},
   "outputs": [],
   "source": []
  }
 ],
 "metadata": {
  "kernelspec": {
   "display_name": "Python 3",
   "language": "python",
   "name": "python3"
  },
  "language_info": {
   "codemirror_mode": {
    "name": "ipython",
    "version": 3
   },
   "file_extension": ".py",
   "mimetype": "text/x-python",
   "name": "python",
   "nbconvert_exporter": "python",
   "pygments_lexer": "ipython3",
   "version": "3.11.9"
  }
 },
 "nbformat": 4,
 "nbformat_minor": 2
}
